{
  "nbformat": 4,
  "nbformat_minor": 0,
  "metadata": {
    "colab": {
      "provenance": [],
      "mount_file_id": "1UrGuTQpFIJg5TsyBzjHelSvYyU-mkUj0",
      "authorship_tag": "ABX9TyONXxCHth9kZHug+uA+8ST8",
      "include_colab_link": true
    },
    "kernelspec": {
      "name": "python3",
      "display_name": "Python 3"
    },
    "language_info": {
      "name": "python"
    }
  },
  "cells": [
    {
      "cell_type": "markdown",
      "metadata": {
        "id": "view-in-github",
        "colab_type": "text"
      },
      "source": [
        "<a href=\"https://colab.research.google.com/github/Nikhilkumar77817/DataAnlytics/blob/main/Numpy.ipynb\" target=\"_parent\"><img src=\"https://colab.research.google.com/assets/colab-badge.svg\" alt=\"Open In Colab\"/></a>"
      ]
    },
    {
      "cell_type": "markdown",
      "source": [
        "**Numpy**\n",
        "\n",
        "NumPy is a Python library used for working with numbers and data in the form of arrays (like tables or lists of numbers).\n",
        "\n",
        "\n",
        "* It helps you do mathematical calculations very fast.\n",
        "*   It provides a special object called ndarray (N-dimensional array), which is like a super-powerful list for handling big sets of numbers.\n",
        "*   It is mainly used in data science, machine learning, image processing, and scientific computing.\n",
        "\n",
        "\n",
        "\n"
      ],
      "metadata": {
        "id": "urxtBoo5tbmq"
      }
    },
    {
      "cell_type": "code",
      "source": [
        "#import numpy\n",
        "import numpy as np"
      ],
      "metadata": {
        "id": "WEidCJ7LtOj2"
      },
      "execution_count": 52,
      "outputs": []
    },
    {
      "cell_type": "markdown",
      "source": [
        "**Creating Arrays in NumPy**"
      ],
      "metadata": {
        "id": "j_6cLBxk1jQ1"
      }
    },
    {
      "cell_type": "code",
      "source": [
        "\n",
        "arr1=[1,2,3,4,5]\n",
        "print(arr1)\n",
        "type(arr1)"
      ],
      "metadata": {
        "colab": {
          "base_uri": "https://localhost:8080/"
        },
        "id": "kBsrTg9ptPH2",
        "outputId": "594c4093-ee67-4c5e-c477-b762e2d5553b"
      },
      "execution_count": 53,
      "outputs": [
        {
          "output_type": "stream",
          "name": "stdout",
          "text": [
            "[1, 2, 3, 4, 5]\n"
          ]
        },
        {
          "output_type": "execute_result",
          "data": {
            "text/plain": [
              "list"
            ]
          },
          "metadata": {},
          "execution_count": 53
        }
      ]
    },
    {
      "cell_type": "code",
      "source": [
        "arr2 = np.array([[1.,2.,3.],[4.,5.,6.]])\n",
        "arr2"
      ],
      "metadata": {
        "colab": {
          "base_uri": "https://localhost:8080/"
        },
        "id": "Mh-BFcEYtPKX",
        "outputId": "925509a0-5be8-41a8-cf0a-51143b476d80"
      },
      "execution_count": 54,
      "outputs": [
        {
          "output_type": "execute_result",
          "data": {
            "text/plain": [
              "array([[1., 2., 3.],\n",
              "       [4., 5., 6.]])"
            ]
          },
          "metadata": {},
          "execution_count": 54
        }
      ]
    },
    {
      "cell_type": "code",
      "source": [
        "arr2 *  arr2"
      ],
      "metadata": {
        "colab": {
          "base_uri": "https://localhost:8080/"
        },
        "id": "VJ-DfsS1tPM3",
        "outputId": "d3a815d8-7c33-4c11-ec82-09113ae470d4"
      },
      "execution_count": 55,
      "outputs": [
        {
          "output_type": "execute_result",
          "data": {
            "text/plain": [
              "array([[ 1.,  4.,  9.],\n",
              "       [16., 25., 36.]])"
            ]
          },
          "metadata": {},
          "execution_count": 55
        }
      ]
    },
    {
      "cell_type": "code",
      "source": [
        "\n",
        "arr2 + arr2"
      ],
      "metadata": {
        "colab": {
          "base_uri": "https://localhost:8080/"
        },
        "id": "JwOQdaPetPQA",
        "outputId": "903b0d14-689a-4e98-e399-93a741adb4ae"
      },
      "execution_count": 56,
      "outputs": [
        {
          "output_type": "execute_result",
          "data": {
            "text/plain": [
              "array([[ 2.,  4.,  6.],\n",
              "       [ 8., 10., 12.]])"
            ]
          },
          "metadata": {},
          "execution_count": 56
        }
      ]
    },
    {
      "cell_type": "code",
      "source": [
        "arr3 = np.array([[2,5,4],[6,2,8]])\n",
        "arr3"
      ],
      "metadata": {
        "colab": {
          "base_uri": "https://localhost:8080/"
        },
        "id": "LjoP2mK-tPTS",
        "outputId": "c71ccb24-7b0a-428e-c9f6-84aa91d4d4cc"
      },
      "execution_count": 57,
      "outputs": [
        {
          "output_type": "execute_result",
          "data": {
            "text/plain": [
              "array([[2, 5, 4],\n",
              "       [6, 2, 8]])"
            ]
          },
          "metadata": {},
          "execution_count": 57
        }
      ]
    },
    {
      "cell_type": "code",
      "source": [
        "arr3 > arr2"
      ],
      "metadata": {
        "colab": {
          "base_uri": "https://localhost:8080/"
        },
        "id": "nE6Bg3J53NKb",
        "outputId": "a5b882b6-3b86-4d22-a015-d25c3f13a98d"
      },
      "execution_count": 58,
      "outputs": [
        {
          "output_type": "execute_result",
          "data": {
            "text/plain": [
              "array([[ True,  True,  True],\n",
              "       [ True, False,  True]])"
            ]
          },
          "metadata": {},
          "execution_count": 58
        }
      ]
    },
    {
      "cell_type": "code",
      "source": [
        "\n",
        "\n",
        "b=np.array([(1,2,3,4),(5,6,7,8),(2,5,8,7)])\n",
        "print(b)\n",
        "b.shape"
      ],
      "metadata": {
        "colab": {
          "base_uri": "https://localhost:8080/"
        },
        "id": "LTtNKwzc3QwL",
        "outputId": "6056dafb-277e-4281-e9c5-59b1291e2c5b"
      },
      "execution_count": 59,
      "outputs": [
        {
          "output_type": "stream",
          "name": "stdout",
          "text": [
            "[[1 2 3 4]\n",
            " [5 6 7 8]\n",
            " [2 5 8 7]]\n"
          ]
        },
        {
          "output_type": "execute_result",
          "data": {
            "text/plain": [
              "(3, 4)"
            ]
          },
          "metadata": {},
          "execution_count": 59
        }
      ]
    },
    {
      "cell_type": "code",
      "source": [
        "# crate a numpy array of zeroes and ones\n",
        "x=np.zeros((4,5))\n",
        "print(x)"
      ],
      "metadata": {
        "colab": {
          "base_uri": "https://localhost:8080/"
        },
        "id": "uBHE6FFg3qUy",
        "outputId": "c2c8a058-e4aa-4ddb-8f65-800c5bd92c13"
      },
      "execution_count": 60,
      "outputs": [
        {
          "output_type": "stream",
          "name": "stdout",
          "text": [
            "[[0. 0. 0. 0. 0.]\n",
            " [0. 0. 0. 0. 0.]\n",
            " [0. 0. 0. 0. 0.]\n",
            " [0. 0. 0. 0. 0.]]\n"
          ]
        }
      ]
    },
    {
      "cell_type": "code",
      "source": [
        "# crate a numpy array of zeroes and ones\n",
        "x=np.ones((4,5))\n",
        "print(x)"
      ],
      "metadata": {
        "colab": {
          "base_uri": "https://localhost:8080/"
        },
        "id": "KCP0B-ur4NX5",
        "outputId": "aaf2d70b-7f4a-459f-b995-00514176a9eb"
      },
      "execution_count": 61,
      "outputs": [
        {
          "output_type": "stream",
          "name": "stdout",
          "text": [
            "[[1. 1. 1. 1. 1.]\n",
            " [1. 1. 1. 1. 1.]\n",
            " [1. 1. 1. 1. 1.]\n",
            " [1. 1. 1. 1. 1.]]\n"
          ]
        }
      ]
    },
    {
      "cell_type": "code",
      "source": [
        "\n",
        "x=np.full((5,4),5)\n",
        "print(x)"
      ],
      "metadata": {
        "colab": {
          "base_uri": "https://localhost:8080/"
        },
        "id": "2bPNL7Gm4oGA",
        "outputId": "fc1ed9c4-bbe6-4d90-c243-d887cc11163a"
      },
      "execution_count": 62,
      "outputs": [
        {
          "output_type": "stream",
          "name": "stdout",
          "text": [
            "[[5 5 5 5]\n",
            " [5 5 5 5]\n",
            " [5 5 5 5]\n",
            " [5 5 5 5]\n",
            " [5 5 5 5]]\n"
          ]
        }
      ]
    },
    {
      "cell_type": "code",
      "source": [
        "# this is identity matrix\n",
        "y=np.eye(5)\n",
        "print(y)"
      ],
      "metadata": {
        "colab": {
          "base_uri": "https://localhost:8080/"
        },
        "id": "uAlLwuR84ub4",
        "outputId": "8a345ad4-d8a0-4d07-80f0-9223e25bcc14"
      },
      "execution_count": 63,
      "outputs": [
        {
          "output_type": "stream",
          "name": "stdout",
          "text": [
            "[[1. 0. 0. 0. 0.]\n",
            " [0. 1. 0. 0. 0.]\n",
            " [0. 0. 1. 0. 0.]\n",
            " [0. 0. 0. 1. 0.]\n",
            " [0. 0. 0. 0. 1.]]\n"
          ]
        }
      ]
    },
    {
      "cell_type": "code",
      "source": [
        "y=np.arange(1,10,2)  # start=1, stop=10, step=2\n",
        "print(y)"
      ],
      "metadata": {
        "colab": {
          "base_uri": "https://localhost:8080/"
        },
        "id": "3qd9Zi_n5V7T",
        "outputId": "736f3acf-97cd-411c-b80a-50a1a63086fe"
      },
      "execution_count": 64,
      "outputs": [
        {
          "output_type": "stream",
          "name": "stdout",
          "text": [
            "[1 3 5 7 9]\n"
          ]
        }
      ]
    },
    {
      "cell_type": "markdown",
      "source": [
        "**Array Attributes**\n",
        "\n"
      ],
      "metadata": {
        "id": "PA-f66aG636T"
      }
    },
    {
      "cell_type": "code",
      "source": [
        "arr = np.array([[1,2,3],[4,5,6]])\n",
        "\n",
        "print(arr.shape)   # (2,3) → 2 rows, 3 columns\n",
        "print(arr.ndim)    # 2 → number of dimensions\n",
        "print(arr.size)    # 6 → total elements\n",
        "print(arr.dtype)   # int64 → data type\n"
      ],
      "metadata": {
        "colab": {
          "base_uri": "https://localhost:8080/"
        },
        "id": "kBvHlmXj6cRV",
        "outputId": "04c0baed-ae7b-4dac-96dd-1e5c236df097"
      },
      "execution_count": 65,
      "outputs": [
        {
          "output_type": "stream",
          "name": "stdout",
          "text": [
            "(2, 3)\n",
            "2\n",
            "6\n",
            "int64\n"
          ]
        }
      ]
    },
    {
      "cell_type": "markdown",
      "source": [
        "**create random matrix**"
      ],
      "metadata": {
        "id": "w0DHgzie7XPl"
      }
    },
    {
      "cell_type": "code",
      "source": [
        "y=np.random.random((5,5))\n",
        "print(y)"
      ],
      "metadata": {
        "colab": {
          "base_uri": "https://localhost:8080/"
        },
        "id": "3rwTsluQ6cUx",
        "outputId": "7d6f146d-996b-49f5-ca0c-c72a0e5842a6"
      },
      "execution_count": 66,
      "outputs": [
        {
          "output_type": "stream",
          "name": "stdout",
          "text": [
            "[[0.3991202  0.12706133 0.05528336 0.46147324 0.79472068]\n",
            " [0.16212508 0.59558686 0.5673025  0.76986594 0.21188442]\n",
            " [0.3782164  0.31071263 0.2634299  0.31274058 0.6936899 ]\n",
            " [0.73484923 0.56960261 0.8289296  0.79131996 0.33099226]\n",
            " [0.00450518 0.00719557 0.04793099 0.63546556 0.10917869]]\n"
          ]
        }
      ]
    },
    {
      "cell_type": "code",
      "source": [
        " # random integr values array within a specific range\n",
        "y=np.random.randint(10,100,(3,5))\n",
        "print(y)"
      ],
      "metadata": {
        "colab": {
          "base_uri": "https://localhost:8080/"
        },
        "id": "eINPIPCU6cYL",
        "outputId": "d90ed0cc-7993-4e77-f57f-a2dd79ad0166"
      },
      "execution_count": 67,
      "outputs": [
        {
          "output_type": "stream",
          "name": "stdout",
          "text": [
            "[[96 20 79 56 58]\n",
            " [11 82 29 48 17]\n",
            " [17 30 43 19 93]]\n"
          ]
        }
      ]
    },
    {
      "cell_type": "code",
      "source": [
        "arr = np.random.randn(2,3)\n",
        "arr"
      ],
      "metadata": {
        "colab": {
          "base_uri": "https://localhost:8080/"
        },
        "id": "arD6UGNP5wgu",
        "outputId": "5fbaf96b-af56-470a-d731-fdd4e6e169f1"
      },
      "execution_count": 68,
      "outputs": [
        {
          "output_type": "execute_result",
          "data": {
            "text/plain": [
              "array([[-1.19693011,  1.25013418,  0.85741916],\n",
              "       [-1.23327538, -0.63387119, -0.73805997]])"
            ]
          },
          "metadata": {},
          "execution_count": 68
        }
      ]
    },
    {
      "cell_type": "code",
      "source": [
        "arr * 10"
      ],
      "metadata": {
        "colab": {
          "base_uri": "https://localhost:8080/"
        },
        "id": "7rHwC4LZ8r4u",
        "outputId": "13e38cb3-2d54-4ad7-81c5-2733a1471374"
      },
      "execution_count": 69,
      "outputs": [
        {
          "output_type": "execute_result",
          "data": {
            "text/plain": [
              "array([[-11.9693011 ,  12.50134181,   8.57419164],\n",
              "       [-12.33275379,  -6.3387119 ,  -7.38059974]])"
            ]
          },
          "metadata": {},
          "execution_count": 69
        }
      ]
    },
    {
      "cell_type": "code",
      "source": [
        "arr + arr"
      ],
      "metadata": {
        "colab": {
          "base_uri": "https://localhost:8080/"
        },
        "id": "XALNHI-28xzN",
        "outputId": "c6daafe4-6c5c-4989-b8c6-ef0eef8d7ec9"
      },
      "execution_count": 70,
      "outputs": [
        {
          "output_type": "execute_result",
          "data": {
            "text/plain": [
              "array([[-2.39386022,  2.50026836,  1.71483833],\n",
              "       [-2.46655076, -1.26774238, -1.47611995]])"
            ]
          },
          "metadata": {},
          "execution_count": 70
        }
      ]
    },
    {
      "cell_type": "markdown",
      "source": [
        "**Indexing and Slicing**"
      ],
      "metadata": {
        "id": "r9LXQYMu90AA"
      }
    },
    {
      "cell_type": "code",
      "source": [
        "names = np.array(['Bob', 'Joe', 'Will', 'Bob', 'Will', 'Joe', 'Joe'])\n",
        "names =='Bob'"
      ],
      "metadata": {
        "colab": {
          "base_uri": "https://localhost:8080/"
        },
        "id": "b0pbpxcQ814C",
        "outputId": "b2854d69-fd6c-4bde-8e8d-9ea1a742e90e"
      },
      "execution_count": 71,
      "outputs": [
        {
          "output_type": "execute_result",
          "data": {
            "text/plain": [
              "array([ True, False, False,  True, False, False, False])"
            ]
          },
          "metadata": {},
          "execution_count": 71
        }
      ]
    },
    {
      "cell_type": "code",
      "source": [
        "names[names != 'Bob']"
      ],
      "metadata": {
        "colab": {
          "base_uri": "https://localhost:8080/"
        },
        "id": "quxsjtQp34S8",
        "outputId": "56303b0d-7def-405e-f782-9aaf80117a26"
      },
      "execution_count": 72,
      "outputs": [
        {
          "output_type": "execute_result",
          "data": {
            "text/plain": [
              "array(['Joe', 'Will', 'Will', 'Joe', 'Joe'], dtype='<U4')"
            ]
          },
          "metadata": {},
          "execution_count": 72
        }
      ]
    },
    {
      "cell_type": "code",
      "source": [
        "arr = np.empty((8,4))\n",
        "\n",
        "for i in range(8):\n",
        "    arr[i] = i\n",
        "\n",
        "arr"
      ],
      "metadata": {
        "colab": {
          "base_uri": "https://localhost:8080/"
        },
        "id": "JSzHrhKS38q4",
        "outputId": "96f2308a-1029-4b01-c44c-51749e75aa15"
      },
      "execution_count": 73,
      "outputs": [
        {
          "output_type": "execute_result",
          "data": {
            "text/plain": [
              "array([[0., 0., 0., 0.],\n",
              "       [1., 1., 1., 1.],\n",
              "       [2., 2., 2., 2.],\n",
              "       [3., 3., 3., 3.],\n",
              "       [4., 4., 4., 4.],\n",
              "       [5., 5., 5., 5.],\n",
              "       [6., 6., 6., 6.],\n",
              "       [7., 7., 7., 7.]])"
            ]
          },
          "metadata": {},
          "execution_count": 73
        }
      ]
    },
    {
      "cell_type": "code",
      "source": [
        "arr = np.array([10, 20, 30, 40, 50])\n",
        "#Syntax: arr[start:stop:step]\n",
        "\n",
        "print(arr[0])     # 10\n",
        "print(arr[-1])    # 50\n",
        "print(arr[1:4])   # Elements from index 1 to 3 → [20 30 40]\n",
        "print(arr[:3])    # First 3 elements → [10 20 30]\n",
        "print(arr[2:])    # From index 2 to end → [30 40 50]\n",
        "print(arr[::2])   # Every 2nd element → [10 30 50]\n"
      ],
      "metadata": {
        "colab": {
          "base_uri": "https://localhost:8080/"
        },
        "id": "BKAUegQY4TG4",
        "outputId": "5b6e0b55-462f-4e9e-d6cd-e7d5cbb3de70"
      },
      "execution_count": 74,
      "outputs": [
        {
          "output_type": "stream",
          "name": "stdout",
          "text": [
            "10\n",
            "50\n",
            "[20 30 40]\n",
            "[10 20 30]\n",
            "[30 40 50]\n",
            "[10 30 50]\n"
          ]
        }
      ]
    },
    {
      "cell_type": "code",
      "source": [
        "# Format: arr[row, col]\n",
        "arr2 = np.array([[1,2,3],[4,5,6],[7,8,9]])\n",
        "\n",
        "print(arr2[0, 2])   # element at 1st row, 3rd col → 3\n",
        "print(arr2[:, 1])   # entire 2nd column → [2 5 8]\n",
        "print(arr2[1, :])   # entire 2nd row → [4 5 6]\n",
        "print(arr3[0, 0])   # Element at row 0, col 0 → 1\n",
        "print(arr3[1, 2])   # Row 1, col 2 → 6\n",
        "print(arr3[-1, -1]) # Last row, last col → 9\n",
        "\n"
      ],
      "metadata": {
        "colab": {
          "base_uri": "https://localhost:8080/"
        },
        "id": "xvmeN8iv5is5",
        "outputId": "417d0a55-f9d3-41be-d7e5-313e43a7d271"
      },
      "execution_count": 75,
      "outputs": [
        {
          "output_type": "stream",
          "name": "stdout",
          "text": [
            "3\n",
            "[2 5 8]\n",
            "[4 5 6]\n",
            "2\n",
            "8\n",
            "8\n"
          ]
        }
      ]
    },
    {
      "cell_type": "markdown",
      "source": [
        "**Mathematical and Statical Operation**"
      ],
      "metadata": {
        "id": "s4R8NhwFEMEd"
      }
    },
    {
      "cell_type": "code",
      "source": [
        "arr3=np.random.randint(10,100,(3,5))\n",
        "print(arr3)\n",
        "\n",
        "print(np.sum(arr3))    # 15\n",
        "print(np.mean(arr3))   # 3.0\n",
        "print(np.median(arr3)) # 3.0\n",
        "print(np.std(arr3))    # 1.414\n",
        "print(np.max(arr3))    # 5\n",
        "print(np.min(arr3))    # 1\n",
        "\n",
        "\n"
      ],
      "metadata": {
        "colab": {
          "base_uri": "https://localhost:8080/"
        },
        "id": "zwLaHFLk5wQA",
        "outputId": "e0676e1a-de60-47ad-d550-404bfb6145b2"
      },
      "execution_count": 76,
      "outputs": [
        {
          "output_type": "stream",
          "name": "stdout",
          "text": [
            "[[55 91 26 26 31]\n",
            " [32 22 10 15 59]\n",
            " [29 94 44 61 73]]\n",
            "668\n",
            "44.53333333333333\n",
            "32.0\n",
            "25.6225595043812\n",
            "94\n",
            "10\n"
          ]
        }
      ]
    },
    {
      "cell_type": "code",
      "source": [
        "arr = np.array([10, 20, 30, 40, 50])\n",
        "\n",
        "print(np.sum(arr))      # 150 (sum)\n",
        "print(np.mean(arr))     # 30.0 (average)\n",
        "print(np.median(arr))   # 30.0 (middle value)\n",
        "print(np.std(arr))      # 14.14 (standard deviation)\n",
        "print(np.var(arr))      # 200.0 (variance)\n",
        "print(np.max(arr))      # 50 (largest value)\n",
        "print(np.min(arr))      # 10 (smallest value)\n",
        "print(np.ptp(arr))      # 40 (max - min = peak to peak)\n"
      ],
      "metadata": {
        "colab": {
          "base_uri": "https://localhost:8080/"
        },
        "id": "FO43qhgCFHeP",
        "outputId": "c59bd681-3733-4b79-b8b7-8227578e0442"
      },
      "execution_count": 77,
      "outputs": [
        {
          "output_type": "stream",
          "name": "stdout",
          "text": [
            "150\n",
            "30.0\n",
            "30.0\n",
            "14.142135623730951\n",
            "200.0\n",
            "50\n",
            "10\n",
            "40\n"
          ]
        }
      ]
    },
    {
      "cell_type": "code",
      "source": [
        "arr2 = np.array([[1, 2, 3],\n",
        "                 [4, 5, 6],\n",
        "                 [7, 8, 9]])\n",
        "\n",
        "print(\"Sum of all elements:\", np.sum(arr2))\n",
        "print(\"Column-wise Sum:\", np.sum(arr2, axis=0)) # column wise\n",
        "print(\"Row-wise Sum:\", np.sum(arr2, axis=1))    # row wise\n"
      ],
      "metadata": {
        "colab": {
          "base_uri": "https://localhost:8080/"
        },
        "id": "-5dUEOCrc4Uc",
        "outputId": "cf5f0b24-f37f-48e0-8a23-1d62121d195f"
      },
      "execution_count": 78,
      "outputs": [
        {
          "output_type": "stream",
          "name": "stdout",
          "text": [
            "Sum of all elements: 45\n",
            "Column-wise Sum: [12 15 18]\n",
            "Row-wise Sum: [ 6 15 24]\n"
          ]
        }
      ]
    },
    {
      "cell_type": "markdown",
      "source": [
        "**Reshaping and resizing array**"
      ],
      "metadata": {
        "id": "txaqMpRyS2M4"
      }
    },
    {
      "cell_type": "code",
      "source": [
        "#Transposing - Special form of reshaping\n",
        "arr5 = np.arange(15).reshape((3,5))\n",
        "arr5"
      ],
      "metadata": {
        "id": "3IujgO5yFo_z",
        "colab": {
          "base_uri": "https://localhost:8080/"
        },
        "outputId": "bc5e3f63-d67e-4b2c-9ce0-e45c77952842"
      },
      "execution_count": 79,
      "outputs": [
        {
          "output_type": "execute_result",
          "data": {
            "text/plain": [
              "array([[ 0,  1,  2,  3,  4],\n",
              "       [ 5,  6,  7,  8,  9],\n",
              "       [10, 11, 12, 13, 14]])"
            ]
          },
          "metadata": {},
          "execution_count": 79
        }
      ]
    },
    {
      "cell_type": "code",
      "source": [
        "arr5.T"
      ],
      "metadata": {
        "colab": {
          "base_uri": "https://localhost:8080/"
        },
        "id": "_O5RFJ_vTK4y",
        "outputId": "6a02eb7a-f847-4e28-e1fb-6d6875296dd9"
      },
      "execution_count": 80,
      "outputs": [
        {
          "output_type": "execute_result",
          "data": {
            "text/plain": [
              "array([[ 0,  5, 10],\n",
              "       [ 1,  6, 11],\n",
              "       [ 2,  7, 12],\n",
              "       [ 3,  8, 13],\n",
              "       [ 4,  9, 14]])"
            ]
          },
          "metadata": {},
          "execution_count": 80
        }
      ]
    },
    {
      "cell_type": "code",
      "source": [
        "arr6 = np.arange(16).reshape((2,2,4))\n",
        "arr6"
      ],
      "metadata": {
        "colab": {
          "base_uri": "https://localhost:8080/"
        },
        "id": "Ac0Pbd0jTQvU",
        "outputId": "dae7ea0c-a5fa-4481-b1e4-61ebb4aebace"
      },
      "execution_count": 81,
      "outputs": [
        {
          "output_type": "execute_result",
          "data": {
            "text/plain": [
              "array([[[ 0,  1,  2,  3],\n",
              "        [ 4,  5,  6,  7]],\n",
              "\n",
              "       [[ 8,  9, 10, 11],\n",
              "        [12, 13, 14, 15]]])"
            ]
          },
          "metadata": {},
          "execution_count": 81
        }
      ]
    },
    {
      "cell_type": "code",
      "source": [
        "arr6.swapaxes(1,2)"
      ],
      "metadata": {
        "colab": {
          "base_uri": "https://localhost:8080/"
        },
        "id": "4tnc2k67Tqu4",
        "outputId": "08908b35-7043-425a-9cbc-81262516ea84"
      },
      "execution_count": 82,
      "outputs": [
        {
          "output_type": "execute_result",
          "data": {
            "text/plain": [
              "array([[[ 0,  4],\n",
              "        [ 1,  5],\n",
              "        [ 2,  6],\n",
              "        [ 3,  7]],\n",
              "\n",
              "       [[ 8, 12],\n",
              "        [ 9, 13],\n",
              "        [10, 14],\n",
              "        [11, 15]]])"
            ]
          },
          "metadata": {},
          "execution_count": 82
        }
      ]
    },
    {
      "cell_type": "code",
      "source": [
        "arr7 = np.array([[1, 2, 3],[4, 5, 6]])\n",
        "flat = arr7.reshape(-1)   # flatten\n",
        "print(flat)  # [1 2 3 4 5 6]\n"
      ],
      "metadata": {
        "colab": {
          "base_uri": "https://localhost:8080/"
        },
        "id": "NjXmTAEuVpf7",
        "outputId": "0b2b40b3-34d0-467f-83a9-9ccb38252d3d"
      },
      "execution_count": 83,
      "outputs": [
        {
          "output_type": "stream",
          "name": "stdout",
          "text": [
            "[1 2 3 4 5 6]\n"
          ]
        }
      ]
    },
    {
      "cell_type": "code",
      "source": [
        "# resize the array\n",
        "arr8 = np.array([1, 2, 3, 4])\n",
        "arr8.resize((3, 3))\n",
        "print(arr8)\n"
      ],
      "metadata": {
        "colab": {
          "base_uri": "https://localhost:8080/"
        },
        "id": "Y48NyqkgWnyU",
        "outputId": "be055dbf-ffdc-4c26-a36b-ec8515627f49"
      },
      "execution_count": 84,
      "outputs": [
        {
          "output_type": "stream",
          "name": "stdout",
          "text": [
            "[[1 2 3]\n",
            " [4 0 0]\n",
            " [0 0 0]]\n"
          ]
        }
      ]
    },
    {
      "cell_type": "markdown",
      "source": [
        "**Sorting**"
      ],
      "metadata": {
        "id": "mkg0Kl8vXfFm"
      }
    },
    {
      "cell_type": "code",
      "source": [
        "Arr9 = np.array([5, 2, 9, 1, 7])\n",
        "print(\"Sorted:\", np.sort(Arr9))   # Ascending order"
      ],
      "metadata": {
        "colab": {
          "base_uri": "https://localhost:8080/"
        },
        "id": "y0n_d6LefJ-L",
        "outputId": "c5dbd7f7-cb2c-4fa7-adee-5850c1b76841"
      },
      "execution_count": 85,
      "outputs": [
        {
          "output_type": "stream",
          "name": "stdout",
          "text": [
            "Sorted: [1 2 5 7 9]\n"
          ]
        }
      ]
    },
    {
      "cell_type": "code",
      "source": [
        "Ar9 = np.array([[3, 7, 1],[9, 2, 6]])\n",
        "\n",
        "print(\"Row-wise Sort:\", np.sort(Ar9, axis=1))\n",
        "print(\"Column-wise Sort:\", np.sort(Ar9, axis=0))\n"
      ],
      "metadata": {
        "colab": {
          "base_uri": "https://localhost:8080/"
        },
        "id": "YY4jSe4KfhAQ",
        "outputId": "96ab73a7-ce44-4497-a23d-16b928829d52"
      },
      "execution_count": 86,
      "outputs": [
        {
          "output_type": "stream",
          "name": "stdout",
          "text": [
            "Row-wise Sort: [[1 3 7]\n",
            " [2 6 9]]\n",
            "Column-wise Sort: [[3 2 1]\n",
            " [9 7 6]]\n"
          ]
        }
      ]
    },
    {
      "cell_type": "code",
      "source": [
        "arr9 = np.random.rand(10)\n",
        "arr9"
      ],
      "metadata": {
        "colab": {
          "base_uri": "https://localhost:8080/"
        },
        "id": "qWSEqVYyXAnX",
        "outputId": "7d62973d-178d-4614-818d-7f6b229df520"
      },
      "execution_count": 87,
      "outputs": [
        {
          "output_type": "execute_result",
          "data": {
            "text/plain": [
              "array([0.48114954, 0.28189134, 0.74207971, 0.42298959, 0.95872366,\n",
              "       0.18017996, 0.68366524, 0.27256922, 0.10963121, 0.99939402])"
            ]
          },
          "metadata": {},
          "execution_count": 87
        }
      ]
    },
    {
      "cell_type": "code",
      "source": [
        "arr9.sort()\n",
        "arr9"
      ],
      "metadata": {
        "colab": {
          "base_uri": "https://localhost:8080/"
        },
        "id": "YapyNpohXtxZ",
        "outputId": "6929cf30-e398-4c7d-b848-a6f505d27fa0"
      },
      "execution_count": 88,
      "outputs": [
        {
          "output_type": "execute_result",
          "data": {
            "text/plain": [
              "array([0.10963121, 0.18017996, 0.27256922, 0.28189134, 0.42298959,\n",
              "       0.48114954, 0.68366524, 0.74207971, 0.95872366, 0.99939402])"
            ]
          },
          "metadata": {},
          "execution_count": 88
        }
      ]
    },
    {
      "cell_type": "markdown",
      "source": [
        "**Logical operation**"
      ],
      "metadata": {
        "id": "hdnsp8j8YxGy"
      }
    },
    {
      "cell_type": "code",
      "source": [
        "array1=np.array([1,2,3,4,5])\n",
        "array1[array1>3]\n"
      ],
      "metadata": {
        "colab": {
          "base_uri": "https://localhost:8080/"
        },
        "id": "HmVJJM6lYNbF",
        "outputId": "379c9a4c-ac11-4096-e771-221253781ae7"
      },
      "execution_count": 89,
      "outputs": [
        {
          "output_type": "execute_result",
          "data": {
            "text/plain": [
              "array([4, 5])"
            ]
          },
          "metadata": {},
          "execution_count": 89
        }
      ]
    },
    {
      "cell_type": "code",
      "source": [
        "array1[array1<3]\n"
      ],
      "metadata": {
        "colab": {
          "base_uri": "https://localhost:8080/"
        },
        "id": "uN-WLd1yZqy3",
        "outputId": "091b05c9-3107-4c03-c369-2e6414cfce26"
      },
      "execution_count": 90,
      "outputs": [
        {
          "output_type": "execute_result",
          "data": {
            "text/plain": [
              "array([1, 2])"
            ]
          },
          "metadata": {},
          "execution_count": 90
        }
      ]
    },
    {
      "cell_type": "code",
      "source": [
        "array1[(array1>2) & (array1<5)]"
      ],
      "metadata": {
        "colab": {
          "base_uri": "https://localhost:8080/"
        },
        "id": "grsleQ9laArq",
        "outputId": "daabeaa1-b649-4676-fdb8-2bda07c091d0"
      },
      "execution_count": 91,
      "outputs": [
        {
          "output_type": "execute_result",
          "data": {
            "text/plain": [
              "array([3, 4])"
            ]
          },
          "metadata": {},
          "execution_count": 91
        }
      ]
    },
    {
      "cell_type": "code",
      "source": [
        "a = np.array([1, 0, 3, 0])\n",
        "b = np.array([1, 1, 0, 0])\n",
        "\n",
        "print(\"a:\", a)\n",
        "print(\"b:\", b)\n",
        "\n",
        "print(\"\\nLogical AND:\", np.logical_and(a, b))\n",
        "print(\"Logical OR:\", np.logical_or(a, b))\n",
        "print(\"Logical NOT of a:\", np.logical_not(a))\n",
        "print(\"Logical XOR:\", np.logical_xor(a, b))\n"
      ],
      "metadata": {
        "colab": {
          "base_uri": "https://localhost:8080/"
        },
        "id": "NPPeYVJ-aBaV",
        "outputId": "130e85e0-a921-45db-a675-c1629c185615"
      },
      "execution_count": 92,
      "outputs": [
        {
          "output_type": "stream",
          "name": "stdout",
          "text": [
            "a: [1 0 3 0]\n",
            "b: [1 1 0 0]\n",
            "\n",
            "Logical AND: [ True False False False]\n",
            "Logical OR: [ True  True  True False]\n",
            "Logical NOT of a: [False  True False  True]\n",
            "Logical XOR: [False  True  True False]\n"
          ]
        }
      ]
    },
    {
      "cell_type": "code",
      "source": [
        "Arr = np.arange(1, 11)\n",
        "\n",
        "# Get only even numbers\n",
        "even = Arr[Arr % 2 == 0]\n",
        "print(\"Even numbers:\", even)\n",
        "\n",
        "# Get numbers greater than 5 and even\n",
        "cond = np.logical_and(Arr > 5, Arr % 2 == 0)\n",
        "print(\"Even > 5:\", Arr[cond])\n"
      ],
      "metadata": {
        "colab": {
          "base_uri": "https://localhost:8080/"
        },
        "id": "Ul8YDNJ_aUao",
        "outputId": "7ccd1969-b778-43a6-f5d9-d569cd3770b7"
      },
      "execution_count": 93,
      "outputs": [
        {
          "output_type": "stream",
          "name": "stdout",
          "text": [
            "Even numbers: [ 2  4  6  8 10]\n",
            "Even > 5: [ 6  8 10]\n"
          ]
        }
      ]
    },
    {
      "cell_type": "code",
      "source": [
        "# np.where(condition, value_if_true, value_if_false)\n",
        "\n",
        "ar1 = np.array([5, 15, 10, 20])\n",
        "result = np.where(ar1 > 10, \"High\", \"Low\")\n",
        "print(result)\n"
      ],
      "metadata": {
        "colab": {
          "base_uri": "https://localhost:8080/"
        },
        "id": "FSKj_xhSa7Zw",
        "outputId": "fdc1bf6e-c1d9-48fe-d173-fa7248afd6b3"
      },
      "execution_count": 94,
      "outputs": [
        {
          "output_type": "stream",
          "name": "stdout",
          "text": [
            "['Low' 'High' 'Low' 'High']\n"
          ]
        }
      ]
    },
    {
      "cell_type": "code",
      "source": [
        "# np.any() → if one is true  → return True\n",
        "#np.all() → if all true  → return True\n",
        "\n",
        "ar2 = np.array([1, 2, 3, 4, 5])\n",
        "print(\"Any > 4:\", np.any(ar2 > 4))   # True\n",
        "print(\"All > 0:\", np.all(ar2 > 0))   # True\n",
        "print(\"All > 2:\", np.all(ar2 > 2))   # False\n"
      ],
      "metadata": {
        "colab": {
          "base_uri": "https://localhost:8080/"
        },
        "id": "630_mtoSbxu-",
        "outputId": "86793dd5-94ea-444c-9dab-d0fb2744130e"
      },
      "execution_count": 95,
      "outputs": [
        {
          "output_type": "stream",
          "name": "stdout",
          "text": [
            "Any > 4: True\n",
            "All > 0: True\n",
            "All > 2: False\n"
          ]
        }
      ]
    },
    {
      "cell_type": "markdown",
      "source": [
        "**Broadcasting**"
      ],
      "metadata": {
        "id": "I7jPr3PfdxZH"
      }
    },
    {
      "cell_type": "code",
      "source": [
        "ar3 = np.array([1, 2, 3, 4])\n",
        "print(ar3 + 5)   # scalar 5 broadcast hoga\n",
        "print(ar3 * 2)   # scalar 2 broadcast hoga\n"
      ],
      "metadata": {
        "colab": {
          "base_uri": "https://localhost:8080/"
        },
        "id": "bn0oeUtLcV7U",
        "outputId": "8edccda0-29ca-412c-bf16-96dd2a8cf669"
      },
      "execution_count": 96,
      "outputs": [
        {
          "output_type": "stream",
          "name": "stdout",
          "text": [
            "[6 7 8 9]\n",
            "[2 4 6 8]\n"
          ]
        }
      ]
    },
    {
      "cell_type": "code",
      "source": [
        "ar4 = np.array([[1, 2, 3],[4, 5, 6]])\n",
        "row = np.array([10, 20, 30])\n",
        "result = ar4 + row\n",
        "print(result)\n"
      ],
      "metadata": {
        "colab": {
          "base_uri": "https://localhost:8080/"
        },
        "id": "AC78M5l3d9QZ",
        "outputId": "21cf5715-d5e1-42b0-a849-b48dc98236e3"
      },
      "execution_count": 97,
      "outputs": [
        {
          "output_type": "stream",
          "name": "stdout",
          "text": [
            "[[11 22 33]\n",
            " [14 25 36]]\n"
          ]
        }
      ]
    },
    {
      "cell_type": "code",
      "source": [
        "A = np.array([[1], [2], [3]])   # Shape (3,1)\n",
        "B = np.array([10, 20, 30])      # Shape (3,)\n",
        "print(A + B)"
      ],
      "metadata": {
        "colab": {
          "base_uri": "https://localhost:8080/"
        },
        "id": "QzD9HkJ1d_gA",
        "outputId": "637c549e-6eea-4124-fdb6-209a8a51b056"
      },
      "execution_count": 98,
      "outputs": [
        {
          "output_type": "stream",
          "name": "stdout",
          "text": [
            "[[11 21 31]\n",
            " [12 22 32]\n",
            " [13 23 33]]\n"
          ]
        }
      ]
    },
    {
      "cell_type": "markdown",
      "source": [
        "**copy and view**"
      ],
      "metadata": {
        "id": "fyNSF9GYgl2s"
      }
    },
    {
      "cell_type": "code",
      "source": [
        "# copy= create new array\n",
        "ARR = np.array([10, 20, 30, 40])\n",
        "copy_arr = ARR.copy()   # deep copy\n",
        "\n",
        "copy_arr[0] = 999\n",
        "print(\"Copy:    \", copy_arr)\n"
      ],
      "metadata": {
        "colab": {
          "base_uri": "https://localhost:8080/"
        },
        "id": "2qztTutbgjxo",
        "outputId": "adaf3175-7729-458f-f072-d646e960a578"
      },
      "execution_count": 99,
      "outputs": [
        {
          "output_type": "stream",
          "name": "stdout",
          "text": [
            "Copy:     [999  20  30  40]\n"
          ]
        }
      ]
    },
    {
      "cell_type": "code",
      "source": [
        "#view = same as original\n",
        "ARR1 = np.array([10, 20, 30, 40])\n",
        "view_arr = ARR1.view()   # shallow copy\n",
        "view_arr[0] = 999\n",
        "print(\"View:    \", view_arr)\n"
      ],
      "metadata": {
        "colab": {
          "base_uri": "https://localhost:8080/"
        },
        "id": "Uq4GmLS7gk6y",
        "outputId": "f82a5a39-4090-4665-8135-54aca852cbdc"
      },
      "execution_count": 100,
      "outputs": [
        {
          "output_type": "stream",
          "name": "stdout",
          "text": [
            "View:     [999  20  30  40]\n"
          ]
        }
      ]
    }
  ]
}